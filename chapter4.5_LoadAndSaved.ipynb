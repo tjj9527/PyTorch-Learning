{
 "cells": [
  {
   "cell_type": "markdown",
   "id": "60bd2908",
   "metadata": {},
   "source": [
    "# 5 读取和存储"
   ]
  },
  {
   "cell_type": "markdown",
   "id": "5b93e69e",
   "metadata": {},
   "source": [
    "## 5.1 读写Tensor\n",
    "我们可以直接使用save函数和load函数分别存储和读取Tensor。save使用Python的pickle实用程序将对象进行序列化，然后将序列化的对象保存到disk，使用save可以保存各种对象,包括模型、张量和字典等。而load使用pickle unpickle工具将pickle的对象文件反序列化为内存。\n",
    "\n",
    "下面的例子创建了Tensor变量x，并将其存在文件名同为x.pt的文件里。"
   ]
  },
  {
   "cell_type": "code",
   "execution_count": 5,
   "id": "a6413d40",
   "metadata": {},
   "outputs": [],
   "source": [
    "import torch\n",
    "from torch import nn\n",
    "\n",
    "x = torch.ones(3)\n",
    "torch.save(x, 'x.pt')\n"
   ]
  },
  {
   "cell_type": "markdown",
   "id": "21ed9d48",
   "metadata": {},
   "source": [
    "将数据从存储的文件读回内存。"
   ]
  },
  {
   "cell_type": "code",
   "execution_count": 3,
   "id": "eb969df5",
   "metadata": {},
   "outputs": [
    {
     "data": {
      "text/plain": [
       "tensor([1., 1., 1.])"
      ]
     },
     "execution_count": 3,
     "metadata": {},
     "output_type": "execute_result"
    }
   ],
   "source": [
    "x2 = torch.load('x.pt')\n",
    "x2\n"
   ]
  },
  {
   "cell_type": "markdown",
   "id": "579bd9f2",
   "metadata": {},
   "source": [
    "还可以存储一个Tensor列表并读回内存。"
   ]
  },
  {
   "cell_type": "code",
   "execution_count": 7,
   "id": "8d4127a6",
   "metadata": {},
   "outputs": [
    {
     "data": {
      "text/plain": [
       "[tensor([1., 1., 1.]), tensor([0., 0., 0., 0.])]"
      ]
     },
     "execution_count": 7,
     "metadata": {},
     "output_type": "execute_result"
    }
   ],
   "source": [
    "y = torch.zeros(4)\n",
    "torch.save([x, y], 'xy.pt')\n",
    "xy_list = torch.load('xy.pt')\n",
    "xy_list\n"
   ]
  },
  {
   "cell_type": "markdown",
   "id": "ebc03b39",
   "metadata": {},
   "source": [
    "存储并读取一个从字符串映射到Tensor的字典。"
   ]
  },
  {
   "cell_type": "code",
   "execution_count": 8,
   "id": "2678aefa",
   "metadata": {},
   "outputs": [
    {
     "data": {
      "text/plain": [
       "{'x': tensor([1., 1., 1.]), 'y': tensor([0., 0., 0., 0.])}"
      ]
     },
     "execution_count": 8,
     "metadata": {},
     "output_type": "execute_result"
    }
   ],
   "source": [
    "torch.save({'x': x, 'y': y}, 'xy_dict.pt')\n",
    "xy = torch.load('xy_dict.pt')\n",
    "xy\n"
   ]
  },
  {
   "cell_type": "markdown",
   "id": "99969085",
   "metadata": {},
   "source": [
    "## 5.2 读写模型\n",
    "### 5.2.1 state_dict\n",
    "在PyTorch中，Module的可学习参数(即权重和偏差)，模块模型包含在参数中(通过model.parameters()访问)。state_dict是一个从参数名称隐射到参数Tesnor的字典对象。"
   ]
  },
  {
   "cell_type": "code",
   "execution_count": 9,
   "id": "e31ec82b",
   "metadata": {},
   "outputs": [
    {
     "data": {
      "text/plain": [
       "OrderedDict([('hidden.weight',\n",
       "              tensor([[ 0.2930,  0.1733, -0.1180],\n",
       "                      [-0.0050,  0.3362,  0.2260]])),\n",
       "             ('hidden.bias', tensor([-0.2715, -0.2176])),\n",
       "             ('output.weight', tensor([[-0.4408, -0.4716]])),\n",
       "             ('output.bias', tensor([-0.5265]))])"
      ]
     },
     "execution_count": 9,
     "metadata": {},
     "output_type": "execute_result"
    }
   ],
   "source": [
    "class MLP(nn.Module):\n",
    "    def __init__(self):\n",
    "        super(MLP, self).__init__()\n",
    "        self.hidden = nn.Linear(3, 2)\n",
    "        self.act = nn.ReLU()\n",
    "        self.output = nn.Linear(2, 1)\n",
    "\n",
    "    def forward(self, x):\n",
    "        a = self.act(self.hidden(x))\n",
    "        return self.output(a)\n",
    "\n",
    "net = MLP()\n",
    "net.state_dict()\n"
   ]
  },
  {
   "cell_type": "markdown",
   "id": "2016ef64",
   "metadata": {},
   "source": [
    "**注意**，只有具有可学习参数的层(卷积层、线性层等)才有state_dict中的条目。优化器(optim)也有一个state_dict，其中包含关于优化器状态以及所使用的超参数的信息。"
   ]
  },
  {
   "cell_type": "code",
   "execution_count": 10,
   "id": "92cf22a3",
   "metadata": {},
   "outputs": [
    {
     "data": {
      "text/plain": [
       "{'state': {},\n",
       " 'param_groups': [{'lr': 0.001,\n",
       "   'momentum': 0.9,\n",
       "   'dampening': 0,\n",
       "   'weight_decay': 0,\n",
       "   'nesterov': False,\n",
       "   'params': [0, 1, 2, 3]}]}"
      ]
     },
     "execution_count": 10,
     "metadata": {},
     "output_type": "execute_result"
    }
   ],
   "source": [
    "optimizer = torch.optim.SGD(net.parameters(), lr=0.001, momentum=0.9)\n",
    "optimizer.state_dict()"
   ]
  },
  {
   "cell_type": "markdown",
   "id": "671d6772",
   "metadata": {},
   "source": [
    "### 5.2.2 保存和加载模型\n",
    "PyTorch中保存和加载训练模型有两种常见的方法:\n",
    "\n",
    "仅保存和加载模型参数(state_dict)；\n",
    "保存和加载整个模型。\n",
    "\n",
    "#### 1. 保存和加载state_dict(推荐方式)  \n",
    "\n",
    "保存："
   ]
  },
  {
   "cell_type": "code",
   "execution_count": 12,
   "id": "d2fcf05c",
   "metadata": {},
   "outputs": [
    {
     "ename": "NameError",
     "evalue": "name 'model' is not defined",
     "output_type": "error",
     "traceback": [
      "\u001B[1;31m---------------------------------------------------------------------------\u001B[0m",
      "\u001B[1;31mNameError\u001B[0m                                 Traceback (most recent call last)",
      "\u001B[1;32m<ipython-input-12-2c40d88f611b>\u001B[0m in \u001B[0;36m<module>\u001B[1;34m\u001B[0m\n\u001B[1;32m----> 1\u001B[1;33m \u001B[0mtorch\u001B[0m\u001B[1;33m.\u001B[0m\u001B[0msave\u001B[0m\u001B[1;33m(\u001B[0m\u001B[0mmodel\u001B[0m\u001B[1;33m.\u001B[0m\u001B[0mstate_dict\u001B[0m\u001B[1;33m(\u001B[0m\u001B[1;33m)\u001B[0m\u001B[1;33m,\u001B[0m \u001B[0mPATH\u001B[0m\u001B[1;33m)\u001B[0m \u001B[1;31m# 推荐的文件后缀名是pt或pth\u001B[0m\u001B[1;33m\u001B[0m\u001B[1;33m\u001B[0m\u001B[0m\n\u001B[0m",
      "\u001B[1;31mNameError\u001B[0m: name 'model' is not defined"
     ]
    }
   ],
   "source": [
    "torch.save(model.state_dict(), PATH) # 推荐的文件后缀名是pt或pth"
   ]
  },
  {
   "cell_type": "markdown",
   "id": "362d8bab",
   "metadata": {},
   "source": [
    "加载："
   ]
  },
  {
   "cell_type": "code",
   "execution_count": null,
   "id": "c7e366c5",
   "metadata": {},
   "outputs": [],
   "source": [
    "model = TheModelClass(*args, **kwargs)\n",
    "model.load_state_dict(torch.load(PATH))"
   ]
  },
  {
   "cell_type": "markdown",
   "id": "35d487e0",
   "metadata": {},
   "source": [
    "#### 2. 保存和加载整个模型  \n",
    "\n",
    "保存："
   ]
  },
  {
   "cell_type": "code",
   "execution_count": null,
   "id": "7c98dad0",
   "metadata": {},
   "outputs": [],
   "source": [
    "torch.save(model, PATH)"
   ]
  },
  {
   "cell_type": "markdown",
   "id": "a2a512a3",
   "metadata": {},
   "source": [
    "加载："
   ]
  },
  {
   "cell_type": "code",
   "execution_count": null,
   "id": "485201e9",
   "metadata": {},
   "outputs": [],
   "source": [
    "model = torch.load(PATH)"
   ]
  },
  {
   "cell_type": "markdown",
   "id": "464ea3bc",
   "metadata": {},
   "source": [
    "采用推荐的方法一来实验一下:"
   ]
  },
  {
   "cell_type": "code",
   "execution_count": 13,
   "id": "064f62cd",
   "metadata": {},
   "outputs": [
    {
     "data": {
      "text/plain": [
       "tensor([[True],\n",
       "        [True]])"
      ]
     },
     "execution_count": 13,
     "metadata": {},
     "output_type": "execute_result"
    }
   ],
   "source": [
    "X = torch.randn(2, 3)\n",
    "Y = net(X)\n",
    "\n",
    "PATH = \"./net.pt\"\n",
    "torch.save(net.state_dict(), PATH)\n",
    "\n",
    "net2 = MLP()\n",
    "net2.load_state_dict(torch.load(PATH))\n",
    "Y2 = net2(X)\n",
    "Y2 == Y\n"
   ]
  },
  {
   "cell_type": "markdown",
   "id": "a4b2272d",
   "metadata": {},
   "source": [
    "因为这net和net2都有同样的模型参数，那么对同一个输入X的计算结果将会是一样的。上面的输出也验证了这一点。"
   ]
  },
  {
   "cell_type": "markdown",
   "id": "14bf55b9",
   "metadata": {},
   "source": [
    "# 小结\n",
    "* 通过save函数和load函数可以很方便地读写Tensor。\n",
    "* 通过save函数和load_state_dict函数可以很方便地读写模型的参数。"
   ]
  }
 ],
 "metadata": {
  "kernelspec": {
   "display_name": "Python (yolo5)",
   "language": "python",
   "name": "yolo5"
  },
  "language_info": {
   "codemirror_mode": {
    "name": "ipython",
    "version": 3
   },
   "file_extension": ".py",
   "mimetype": "text/x-python",
   "name": "python",
   "nbconvert_exporter": "python",
   "pygments_lexer": "ipython3",
   "version": "3.6.13"
  }
 },
 "nbformat": 4,
 "nbformat_minor": 5
}